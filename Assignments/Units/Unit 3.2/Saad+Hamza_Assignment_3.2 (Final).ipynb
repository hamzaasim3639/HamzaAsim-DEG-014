{
 "cells": [
  {
   "cell_type": "code",
   "execution_count": 1,
   "id": "e67a5ce3-f541-4159-a980-8f4e978b6dc1",
   "metadata": {
    "tags": []
   },
   "outputs": [],
   "source": [
    "import matplotlib.pyplot as plt \n",
    "import numpy as np              \n",
    "import pandas as pd             \n",
    "from sklearn import datasets      \n",
    "from sklearn.metrics import f1_score   \n",
    "from sklearn.model_selection import train_test_split  \n",
    "from sklearn.preprocessing import StandardScaler    "
   ]
  },
  {
   "cell_type": "code",
   "execution_count": 2,
   "id": "bdf9b8dd-41c8-467c-95eb-fcfc1d6ad172",
   "metadata": {
    "tags": []
   },
   "outputs": [
    {
     "data": {
      "text/html": [
       "<div>\n",
       "<style scoped>\n",
       "    .dataframe tbody tr th:only-of-type {\n",
       "        vertical-align: middle;\n",
       "    }\n",
       "\n",
       "    .dataframe tbody tr th {\n",
       "        vertical-align: top;\n",
       "    }\n",
       "\n",
       "    .dataframe thead th {\n",
       "        text-align: right;\n",
       "    }\n",
       "</style>\n",
       "<table border=\"1\" class=\"dataframe\">\n",
       "  <thead>\n",
       "    <tr style=\"text-align: right;\">\n",
       "      <th></th>\n",
       "      <th>encoded_class</th>\n",
       "    </tr>\n",
       "  </thead>\n",
       "  <tbody>\n",
       "    <tr>\n",
       "      <th>0</th>\n",
       "      <td>0</td>\n",
       "    </tr>\n",
       "    <tr>\n",
       "      <th>1</th>\n",
       "      <td>0</td>\n",
       "    </tr>\n",
       "    <tr>\n",
       "      <th>2</th>\n",
       "      <td>0</td>\n",
       "    </tr>\n",
       "    <tr>\n",
       "      <th>3</th>\n",
       "      <td>0</td>\n",
       "    </tr>\n",
       "    <tr>\n",
       "      <th>4</th>\n",
       "      <td>0</td>\n",
       "    </tr>\n",
       "    <tr>\n",
       "      <th>...</th>\n",
       "      <td>...</td>\n",
       "    </tr>\n",
       "    <tr>\n",
       "      <th>173</th>\n",
       "      <td>2</td>\n",
       "    </tr>\n",
       "    <tr>\n",
       "      <th>174</th>\n",
       "      <td>2</td>\n",
       "    </tr>\n",
       "    <tr>\n",
       "      <th>175</th>\n",
       "      <td>2</td>\n",
       "    </tr>\n",
       "    <tr>\n",
       "      <th>176</th>\n",
       "      <td>2</td>\n",
       "    </tr>\n",
       "    <tr>\n",
       "      <th>177</th>\n",
       "      <td>2</td>\n",
       "    </tr>\n",
       "  </tbody>\n",
       "</table>\n",
       "<p>178 rows × 1 columns</p>\n",
       "</div>"
      ],
      "text/plain": [
       "     encoded_class\n",
       "0                0\n",
       "1                0\n",
       "2                0\n",
       "3                0\n",
       "4                0\n",
       "..             ...\n",
       "173              2\n",
       "174              2\n",
       "175              2\n",
       "176              2\n",
       "177              2\n",
       "\n",
       "[178 rows x 1 columns]"
      ]
     },
     "execution_count": 2,
     "metadata": {},
     "output_type": "execute_result"
    }
   ],
   "source": [
    "wine = datasets.load_wine() # loading the dataset\n",
    "wine_x = pd.DataFrame(wine.data, columns = wine.feature_names)   # dataframe with all feature columns\n",
    "wine_y = pd.DataFrame(wine.target, columns = ['encoded_class'])   # dataframe with target column\n",
    "wine_y"
   ]
  },
  {
   "cell_type": "code",
   "execution_count": 3,
   "id": "836414ff-803b-4918-b146-28a5ebb85218",
   "metadata": {
    "tags": []
   },
   "outputs": [],
   "source": [
    "# Splitting the data, with 20% of it to be for test and setting random_state to 1234\n",
    "train_X, test_X, train_y, test_y  = train_test_split(wine_x, wine_y, test_size = 0.2, random_state = 1234)"
   ]
  },
  {
   "cell_type": "code",
   "execution_count": 4,
   "id": "5ce2e9ed-9fb9-4535-a5dc-512b8081861b",
   "metadata": {
    "tags": []
   },
   "outputs": [],
   "source": [
    "scaler = StandardScaler()   # Initialized Standard scaler used for scaling\n",
    "scaled_train_X = scaler.fit_transform(train_X) # fit does all the mathematics and then transform will scale accordingly \n",
    "scaled_test_X = scaler.transform(test_X)    # we only transform and not fit on test data to avoid information leakage        "
   ]
  },
  {
   "cell_type": "code",
   "execution_count": 5,
   "id": "4b2000a1-8e65-4aed-9cc8-8076fec7d782",
   "metadata": {
    "tags": []
   },
   "outputs": [
    {
     "name": "stderr",
     "output_type": "stream",
     "text": [
      "/home/saadsameerkhan/.local/lib/python3.10/site-packages/sklearn/preprocessing/_label.py:99: DataConversionWarning: A column-vector y was passed when a 1d array was expected. Please change the shape of y to (n_samples, ), for example using ravel().\n",
      "  y = column_or_1d(y, warn=True)\n",
      "/home/saadsameerkhan/.local/lib/python3.10/site-packages/sklearn/preprocessing/_label.py:134: DataConversionWarning: A column-vector y was passed when a 1d array was expected. Please change the shape of y to (n_samples, ), for example using ravel().\n",
      "  y = column_or_1d(y, dtype=self.classes_.dtype, warn=True)\n"
     ]
    },
    {
     "data": {
      "text/plain": [
       "0.9722222222222222"
      ]
     },
     "execution_count": 5,
     "metadata": {},
     "output_type": "execute_result"
    }
   ],
   "source": [
    "from sklearn.tree import DecisionTreeClassifier   \n",
    "from sklearn.svm import SVC\n",
    "from sklearn.neighbors import KNeighborsClassifier\n",
    "from sklearn.ensemble import VotingClassifier\n",
    "\n",
    "\n",
    "# Initializing the three classifiers to be used in voting model\n",
    "dt_model = DecisionTreeClassifier()   \n",
    "knn_model = KNeighborsClassifier()\n",
    "svc_model = SVC()\n",
    "\n",
    "\n",
    "v_model = VotingClassifier(estimators=[('dt', dt_model), ('knn', knn_model), ('svc', svc_model)], voting = 'hard')\n",
    "''' \n",
    "    estimators specifies the models initialzed above to the voting classifier \n",
    "    'hard' uses predicted class labels for majority rule voting. \n",
    "'''\n",
    "\n",
    "\n",
    "v_model.fit(scaled_train_X, train_y)   # trained the model \n",
    "y_pred = v_model.predict(scaled_test_X)  # predict the y values on the unseen test data after training\n",
    "f1_score(test_y, y_pred, average='micro')  # evaluation score after comparing actual y and predicted y"
   ]
  }
 ],
 "metadata": {
  "kernelspec": {
   "display_name": "Python 3 (ipykernel)",
   "language": "python",
   "name": "python3"
  },
  "language_info": {
   "codemirror_mode": {
    "name": "ipython",
    "version": 3
   },
   "file_extension": ".py",
   "mimetype": "text/x-python",
   "name": "python",
   "nbconvert_exporter": "python",
   "pygments_lexer": "ipython3",
   "version": "3.10.6"
  }
 },
 "nbformat": 4,
 "nbformat_minor": 5
}
