{
 "cells": [
  {
   "cell_type": "code",
   "execution_count": 1,
   "id": "db59ddca-f736-46a3-a4a3-1a7cbd674c5e",
   "metadata": {},
   "outputs": [],
   "source": [
    "import pyspark\n",
    "from pyspark.sql import SparkSession\n",
    "from pyspark.sql.functions import col, avg\n",
    "from pyspark.sql.functions import udf\n",
    "from pyspark.sql.types import StringType"
   ]
  },
  {
   "cell_type": "code",
   "execution_count": 2,
   "id": "a42bb7e0-4655-46f8-b070-2795973f1dad",
   "metadata": {},
   "outputs": [
    {
     "name": "stderr",
     "output_type": "stream",
     "text": [
      "23/05/18 12:04:03 WARN Utils: Your hostname, all-MS-7D35 resolves to a loopback address: 127.0.1.1; using 192.168.1.116 instead (on interface enp2s0)\n",
      "23/05/18 12:04:03 WARN Utils: Set SPARK_LOCAL_IP if you need to bind to another address\n",
      "Setting default log level to \"WARN\".\n",
      "To adjust logging level use sc.setLogLevel(newLevel). For SparkR, use setLogLevel(newLevel).\n",
      "23/05/18 12:04:03 WARN NativeCodeLoader: Unable to load native-hadoop library for your platform... using builtin-java classes where applicable\n",
      "23/05/18 12:04:04 WARN Utils: Service 'SparkUI' could not bind on port 4040. Attempting port 4041.\n",
      "23/05/18 12:04:04 WARN Utils: Service 'SparkUI' could not bind on port 4041. Attempting port 4042.\n",
      "23/05/18 12:04:04 WARN Utils: Service 'SparkUI' could not bind on port 4042. Attempting port 4043.\n"
     ]
    }
   ],
   "source": [
    "# starting the Spark server\n",
    "spark = (\n",
    "    SparkSession.builder.master(\"local[1]\")\n",
    "    .appName(\"titanic_assignment\")\n",
    "    .getOrCreate()\n",
    ")"
   ]
  },
  {
   "cell_type": "code",
   "execution_count": 3,
   "id": "8d0a01a1-760d-4bfd-83aa-ddb50fb4e42d",
   "metadata": {},
   "outputs": [],
   "source": [
    "# reading the CSV file\n",
    "df = spark.read.csv(\"./data/titanic.csv\", inferSchema=True)"
   ]
  },
  {
   "cell_type": "code",
   "execution_count": 4,
   "id": "d795a3cf-9d6d-45e8-8041-adb179699189",
   "metadata": {},
   "outputs": [
    {
     "name": "stdout",
     "output_type": "stream",
     "text": [
      "+---+---+---+--------------------+------+----+---+---+----------------+-------+----+----+-------------------+\n",
      "|_c0|_c1|_c2|                 _c3|   _c4| _c5|_c6|_c7|             _c8|    _c9|_c10|_c11|               _c12|\n",
      "+---+---+---+--------------------+------+----+---+---+----------------+-------+----+----+-------------------+\n",
      "|  1|  0|  3|Braund, Mr. Owen ...|  male|  22|  1|  0|       A/5 21171|   7.25|null|   S|2020-01-01 13:45:25|\n",
      "|  2|  1|  1|Cumings, Mrs. Joh...|female|  38|  1|  0|        PC 17599|71.2833| C85|   C|2020-01-01 13:44:48|\n",
      "|  3|  1|  3|Heikkinen, Miss. ...|female|  26|  0|  0|STON/O2. 3101282|  7.925|null|   S|2020-01-01 13:38:11|\n",
      "|  4|  1|  1|Futrelle, Mrs. Ja...|female|  35|  1|  0|          113803|   53.1|C123|   S|2020-01-01 13:32:00|\n",
      "|  5|  0|  3|Allen, Mr. Willia...|  male|  35|  0|  0|          373450|   8.05|null|   S|2020-01-01 13:36:30|\n",
      "|  6|  0|  3|    Moran, Mr. James|  male|null|  0|  0|          330877| 8.4583|null|   Q|2020-01-01 13:31:39|\n",
      "|  7|  0|  1|McCarthy, Mr. Tim...|  male|  54|  0|  0|           17463|51.8625| E46|   S|2020-01-01 13:37:31|\n",
      "|  8|  0|  3|Palsson, Master. ...|  male|   2|  3|  1|          349909| 21.075|null|   S|2020-01-01 13:49:08|\n",
      "|  9|  1|  3|Johnson, Mrs. Osc...|female|  27|  0|  2|          347742|11.1333|null|   S|2020-01-01 13:33:42|\n",
      "| 10|  1|  2|Nasser, Mrs. Nich...|female|  14|  1|  0|          237736|30.0708|null|   C|2020-01-01 13:32:53|\n",
      "| 11|  1|  3|Sandstrom, Miss. ...|female|   4|  1|  1|         PP 9549|   16.7|  G6|   S|2020-01-01 13:32:23|\n",
      "| 12|  1|  1|Bonnell, Miss. El...|female|  58|  0|  0|          113783|  26.55|C103|   S|2020-01-01 13:30:12|\n",
      "| 13|  0|  3|Saundercock, Mr. ...|  male|  20|  0|  0|       A/5. 2151|   8.05|null|   S|2020-01-01 13:33:34|\n",
      "| 14|  0|  3|Andersson, Mr. An...|  male|  39|  1|  5|          347082| 31.275|null|   S|2020-01-01 13:30:20|\n",
      "| 15|  0|  3|Vestrom, Miss. Hu...|female|  14|  0|  0|          350406| 7.8542|null|   S|2020-01-01 13:41:17|\n",
      "| 16|  1|  2|Hewlett, Mrs. (Ma...|female|  55|  0|  0|          248706|   16.0|null|   S|2020-01-01 13:34:22|\n",
      "| 17|  0|  3|Rice, Master. Eugene|  male|   2|  4|  1|          382652| 29.125|null|   Q|2020-01-01 13:41:55|\n",
      "| 18|  1|  2|Williams, Mr. Cha...|  male|null|  0|  0|          244373|   13.0|null|   S|2020-01-01 13:39:35|\n",
      "| 19|  0|  3|Vander Planke, Mr...|female|  31|  1|  0|          345763|   18.0|null|   S|2020-01-01 13:39:38|\n",
      "| 20|  1|  3|Masselmani, Mrs. ...|female|null|  0|  0|            2649|  7.225|null|   C|2020-01-01 13:36:56|\n",
      "+---+---+---+--------------------+------+----+---+---+----------------+-------+----+----+-------------------+\n",
      "only showing top 20 rows\n",
      "\n"
     ]
    }
   ],
   "source": [
    "df.show()"
   ]
  },
  {
   "cell_type": "code",
   "execution_count": 5,
   "id": "d6f23d14-9021-4481-91b5-067814a38f39",
   "metadata": {},
   "outputs": [
    {
     "name": "stdout",
     "output_type": "stream",
     "text": [
      "root\n",
      " |-- _c0: integer (nullable = true)\n",
      " |-- _c1: integer (nullable = true)\n",
      " |-- _c2: integer (nullable = true)\n",
      " |-- _c3: string (nullable = true)\n",
      " |-- _c4: string (nullable = true)\n",
      " |-- _c5: integer (nullable = true)\n",
      " |-- _c6: integer (nullable = true)\n",
      " |-- _c7: integer (nullable = true)\n",
      " |-- _c8: string (nullable = true)\n",
      " |-- _c9: double (nullable = true)\n",
      " |-- _c10: string (nullable = true)\n",
      " |-- _c11: string (nullable = true)\n",
      " |-- _c12: timestamp (nullable = true)\n",
      "\n"
     ]
    }
   ],
   "source": [
    "df.printSchema()"
   ]
  },
  {
   "cell_type": "code",
   "execution_count": 6,
   "id": "275dcd8f-04ef-4fd4-a413-5bc17f5aee24",
   "metadata": {},
   "outputs": [
    {
     "name": "stdout",
     "output_type": "stream",
     "text": [
      "+---+---+---+--------------------+------+----+---+---+----------------+-------+----+----+\n",
      "| id|_c1|_c2|                Name|gender| age|_c6|_c7|             _c8|    _c9|_c10|_c11|\n",
      "+---+---+---+--------------------+------+----+---+---+----------------+-------+----+----+\n",
      "|  1|  0|  3|Braund, Mr. Owen ...|  male|  22|  1|  0|       A/5 21171|   7.25|null|   S|\n",
      "|  2|  1|  1|Cumings, Mrs. Joh...|female|  38|  1|  0|        PC 17599|71.2833| C85|   C|\n",
      "|  3|  1|  3|Heikkinen, Miss. ...|female|  26|  0|  0|STON/O2. 3101282|  7.925|null|   S|\n",
      "|  4|  1|  1|Futrelle, Mrs. Ja...|female|  35|  1|  0|          113803|   53.1|C123|   S|\n",
      "|  5|  0|  3|Allen, Mr. Willia...|  male|  35|  0|  0|          373450|   8.05|null|   S|\n",
      "|  6|  0|  3|    Moran, Mr. James|  male|null|  0|  0|          330877| 8.4583|null|   Q|\n",
      "|  7|  0|  1|McCarthy, Mr. Tim...|  male|  54|  0|  0|           17463|51.8625| E46|   S|\n",
      "|  8|  0|  3|Palsson, Master. ...|  male|   2|  3|  1|          349909| 21.075|null|   S|\n",
      "|  9|  1|  3|Johnson, Mrs. Osc...|female|  27|  0|  2|          347742|11.1333|null|   S|\n",
      "| 10|  1|  2|Nasser, Mrs. Nich...|female|  14|  1|  0|          237736|30.0708|null|   C|\n",
      "+---+---+---+--------------------+------+----+---+---+----------------+-------+----+----+\n",
      "only showing top 10 rows\n",
      "\n"
     ]
    }
   ],
   "source": [
    "# renaming some columns\n",
    "df = df.withColumnRenamed(\"_c0\", \"id\") \\\n",
    "       .withColumnRenamed(\"_c3\", \"Name\") \\\n",
    "       .withColumnRenamed(\"_c4\", \"gender\") \\\n",
    "       .withColumnRenamed(\"_c5\", \"age\") \n",
    "\n",
    "#dropping the timestamp column\n",
    "df = df.drop(\"_c12\")\n",
    "df.show(10)"
   ]
  },
  {
   "attachments": {},
   "cell_type": "markdown",
   "id": "a8e34abe-bb42-429e-bccd-11f049c1aa3b",
   "metadata": {},
   "source": [
    "# Calculating minimum, maximum and average values for numerical columns"
   ]
  },
  {
   "cell_type": "code",
   "execution_count": 7,
   "id": "eac326d6-1ab4-42a8-b92d-015068ac8722",
   "metadata": {},
   "outputs": [
    {
     "data": {
      "text/plain": [
       "[Row(_c1=1), Row(_c1=0)]"
      ]
     },
     "execution_count": 7,
     "metadata": {},
     "output_type": "execute_result"
    }
   ],
   "source": [
    "# printing unique values in _c1\n",
    "df.select(\"_c1\").distinct().collect()"
   ]
  },
  {
   "cell_type": "code",
   "execution_count": 8,
   "id": "23f2e58d-c6af-4d1e-95f5-0b0b688f487d",
   "metadata": {},
   "outputs": [
    {
     "data": {
      "text/plain": [
       "[Row(_c2=1), Row(_c2=3), Row(_c2=2)]"
      ]
     },
     "execution_count": 8,
     "metadata": {},
     "output_type": "execute_result"
    }
   ],
   "source": [
    "# printing unique values in _c1\n",
    "df.select(\"_c2\").distinct().collect()"
   ]
  },
  {
   "attachments": {},
   "cell_type": "markdown",
   "id": "139073ce-3cd6-46ed-a0fa-a3d5ac36097b",
   "metadata": {},
   "source": [
    "### From the above two results, we can safely assume that both these columns are CATEGORICAL \n",
    "#### since they only contain 2 or 3 unique values and were label encoded"
   ]
  },
  {
   "cell_type": "code",
   "execution_count": 9,
   "id": "9f50b472-7dfb-45df-b748-f6c137b93050",
   "metadata": {},
   "outputs": [],
   "source": [
    "df = df.withColumnRenamed(\"_c1\", \"category_1\") \\\n",
    "       .withColumnRenamed(\"_c2\", \"category_2\")  "
   ]
  },
  {
   "cell_type": "code",
   "execution_count": 10,
   "id": "f3b66362-80fc-4e24-960a-79645d49784b",
   "metadata": {},
   "outputs": [
    {
     "data": {
      "text/plain": [
       "[Row(_c6=1),\n",
       " Row(_c6=3),\n",
       " Row(_c6=5),\n",
       " Row(_c6=4),\n",
       " Row(_c6=8),\n",
       " Row(_c6=2),\n",
       " Row(_c6=0)]"
      ]
     },
     "execution_count": 10,
     "metadata": {},
     "output_type": "execute_result"
    }
   ],
   "source": [
    "df.select(\"_c6\").distinct().collect()"
   ]
  },
  {
   "cell_type": "code",
   "execution_count": 11,
   "id": "7f349cc8-e0a0-40f6-a6a3-3d42ad19c574",
   "metadata": {},
   "outputs": [
    {
     "data": {
      "text/plain": [
       "[Row(_c7=1),\n",
       " Row(_c7=6),\n",
       " Row(_c7=3),\n",
       " Row(_c7=5),\n",
       " Row(_c7=4),\n",
       " Row(_c7=2),\n",
       " Row(_c7=0)]"
      ]
     },
     "execution_count": 11,
     "metadata": {},
     "output_type": "execute_result"
    }
   ],
   "source": [
    "df.select(\"_c7\").distinct().collect()"
   ]
  },
  {
   "cell_type": "code",
   "execution_count": 12,
   "id": "5767bee4-f6d7-48c6-86df-927512f40c6d",
   "metadata": {},
   "outputs": [
    {
     "name": "stdout",
     "output_type": "stream",
     "text": [
      "+---+----------+----------+--------------------+------+----+---+---+----------------+-------+----+----+\n",
      "| id|category_1|category_2|                Name|gender| age|_c6|_c7|             _c8|    _c9|_c10|_c11|\n",
      "+---+----------+----------+--------------------+------+----+---+---+----------------+-------+----+----+\n",
      "|  1|         0|         3|Braund, Mr. Owen ...|  male|  22|  1|  0|       A/5 21171|   7.25|null|   S|\n",
      "|  2|         1|         1|Cumings, Mrs. Joh...|female|  38|  1|  0|        PC 17599|71.2833| C85|   C|\n",
      "|  3|         1|         3|Heikkinen, Miss. ...|female|  26|  0|  0|STON/O2. 3101282|  7.925|null|   S|\n",
      "|  4|         1|         1|Futrelle, Mrs. Ja...|female|  35|  1|  0|          113803|   53.1|C123|   S|\n",
      "|  5|         0|         3|Allen, Mr. Willia...|  male|  35|  0|  0|          373450|   8.05|null|   S|\n",
      "|  6|         0|         3|    Moran, Mr. James|  male|null|  0|  0|          330877| 8.4583|null|   Q|\n",
      "|  7|         0|         1|McCarthy, Mr. Tim...|  male|  54|  0|  0|           17463|51.8625| E46|   S|\n",
      "|  8|         0|         3|Palsson, Master. ...|  male|   2|  3|  1|          349909| 21.075|null|   S|\n",
      "|  9|         1|         3|Johnson, Mrs. Osc...|female|  27|  0|  2|          347742|11.1333|null|   S|\n",
      "| 10|         1|         2|Nasser, Mrs. Nich...|female|  14|  1|  0|          237736|30.0708|null|   C|\n",
      "| 11|         1|         3|Sandstrom, Miss. ...|female|   4|  1|  1|         PP 9549|   16.7|  G6|   S|\n",
      "| 12|         1|         1|Bonnell, Miss. El...|female|  58|  0|  0|          113783|  26.55|C103|   S|\n",
      "| 13|         0|         3|Saundercock, Mr. ...|  male|  20|  0|  0|       A/5. 2151|   8.05|null|   S|\n",
      "| 14|         0|         3|Andersson, Mr. An...|  male|  39|  1|  5|          347082| 31.275|null|   S|\n",
      "| 15|         0|         3|Vestrom, Miss. Hu...|female|  14|  0|  0|          350406| 7.8542|null|   S|\n",
      "| 16|         1|         2|Hewlett, Mrs. (Ma...|female|  55|  0|  0|          248706|   16.0|null|   S|\n",
      "| 17|         0|         3|Rice, Master. Eugene|  male|   2|  4|  1|          382652| 29.125|null|   Q|\n",
      "| 18|         1|         2|Williams, Mr. Cha...|  male|null|  0|  0|          244373|   13.0|null|   S|\n",
      "| 19|         0|         3|Vander Planke, Mr...|female|  31|  1|  0|          345763|   18.0|null|   S|\n",
      "| 20|         1|         3|Masselmani, Mrs. ...|female|null|  0|  0|            2649|  7.225|null|   C|\n",
      "+---+----------+----------+--------------------+------+----+---+---+----------------+-------+----+----+\n",
      "only showing top 20 rows\n",
      "\n"
     ]
    }
   ],
   "source": [
    "df.show()"
   ]
  },
  {
   "attachments": {},
   "cell_type": "markdown",
   "id": "55315c7e",
   "metadata": {},
   "source": [
    "### Checking for null values in all the numerical columns"
   ]
  },
  {
   "cell_type": "code",
   "execution_count": 13,
   "id": "514dd354-0a16-49f4-b20e-bdf5dea553fe",
   "metadata": {},
   "outputs": [
    {
     "name": "stdout",
     "output_type": "stream",
     "text": [
      "+---+----------+----------+----+------+---+---+---+---+---+----+----+\n",
      "| id|category_1|category_2|Name|gender|age|_c6|_c7|_c8|_c9|_c10|_c11|\n",
      "+---+----------+----------+----+------+---+---+---+---+---+----+----+\n",
      "+---+----------+----------+----+------+---+---+---+---+---+----+----+\n",
      "\n"
     ]
    }
   ],
   "source": [
    "df.filter(col(\"_c6\").isNull()).show()"
   ]
  },
  {
   "cell_type": "code",
   "execution_count": 14,
   "id": "416d79d9-e2b2-43e7-99b0-ad629ff04425",
   "metadata": {},
   "outputs": [
    {
     "name": "stdout",
     "output_type": "stream",
     "text": [
      "+---+----------+----------+----+------+---+---+---+---+---+----+----+\n",
      "| id|category_1|category_2|Name|gender|age|_c6|_c7|_c8|_c9|_c10|_c11|\n",
      "+---+----------+----------+----+------+---+---+---+---+---+----+----+\n",
      "+---+----------+----------+----+------+---+---+---+---+---+----+----+\n",
      "\n"
     ]
    }
   ],
   "source": [
    "df.filter(col(\"_c7\").isNull()).show()"
   ]
  },
  {
   "cell_type": "code",
   "execution_count": 15,
   "id": "b3453e3d-09ff-4dd7-a016-14d0f82b766b",
   "metadata": {},
   "outputs": [
    {
     "name": "stdout",
     "output_type": "stream",
     "text": [
      "+---+----------+----------+----+------+---+---+---+---+---+----+----+\n",
      "| id|category_1|category_2|Name|gender|age|_c6|_c7|_c8|_c9|_c10|_c11|\n",
      "+---+----------+----------+----+------+---+---+---+---+---+----+----+\n",
      "+---+----------+----------+----+------+---+---+---+---+---+----+----+\n",
      "\n"
     ]
    }
   ],
   "source": [
    "df.filter(col(\"_c9\").isNull()).show()"
   ]
  },
  {
   "cell_type": "code",
   "execution_count": 16,
   "id": "5ceb5378-6e59-41cf-930f-dbcba31e54b4",
   "metadata": {},
   "outputs": [
    {
     "name": "stdout",
     "output_type": "stream",
     "text": [
      "+---+----------+----------+--------------------+------+----+---+---+---------------+--------+----+----+\n",
      "| id|category_1|category_2|                Name|gender| age|_c6|_c7|            _c8|     _c9|_c10|_c11|\n",
      "+---+----------+----------+--------------------+------+----+---+---+---------------+--------+----+----+\n",
      "|  6|         0|         3|    Moran, Mr. James|  male|null|  0|  0|         330877|  8.4583|null|   Q|\n",
      "| 18|         1|         2|Williams, Mr. Cha...|  male|null|  0|  0|         244373|    13.0|null|   S|\n",
      "| 20|         1|         3|Masselmani, Mrs. ...|female|null|  0|  0|           2649|   7.225|null|   C|\n",
      "| 27|         0|         3|Emir, Mr. Farred ...|  male|null|  0|  0|           2631|   7.225|null|   C|\n",
      "| 29|         1|         3|\"O'Dwyer, Miss. E...|female|null|  0|  0|         330959|  7.8792|null|   Q|\n",
      "| 30|         0|         3| Todoroff, Mr. Lalio|  male|null|  0|  0|         349216|  7.8958|null|   S|\n",
      "| 32|         1|         1|Spencer, Mrs. Wil...|female|null|  1|  0|       PC 17569|146.5208| B78|   C|\n",
      "| 33|         1|         3|Glynn, Miss. Mary...|female|null|  0|  0|         335677|    7.75|null|   Q|\n",
      "| 37|         1|         3|    Mamee, Mr. Hanna|  male|null|  0|  0|           2677|  7.2292|null|   C|\n",
      "| 43|         0|         3| Kraeff, Mr. Theodor|  male|null|  0|  0|         349253|  7.8958|null|   C|\n",
      "| 46|         0|         3|Rogers, Mr. Willi...|  male|null|  0|  0|S.C./A.4. 23567|    8.05|null|   S|\n",
      "| 47|         0|         3|   Lennon, Mr. Denis|  male|null|  1|  0|         370371|    15.5|null|   Q|\n",
      "| 48|         1|         3|O'Driscoll, Miss....|female|null|  0|  0|          14311|    7.75|null|   Q|\n",
      "| 49|         0|         3| Samaan, Mr. Youssef|  male|null|  2|  0|           2662| 21.6792|null|   C|\n",
      "| 56|         1|         1|   Woolner, Mr. Hugh|  male|null|  0|  0|          19947|    35.5| C52|   S|\n",
      "| 65|         0|         1|Stewart, Mr. Albe...|  male|null|  0|  0|       PC 17605| 27.7208|null|   C|\n",
      "| 66|         1|         3|Moubarek, Master....|  male|null|  1|  1|           2661| 15.2458|null|   C|\n",
      "| 77|         0|         3|   Staneff, Mr. Ivan|  male|null|  0|  0|         349208|  7.8958|null|   S|\n",
      "| 78|         0|         3|Moutal, Mr. Raham...|  male|null|  0|  0|         374746|    8.05|null|   S|\n",
      "| 83|         1|         3|McDermott, Miss. ...|female|null|  0|  0|         330932|  7.7875|null|   Q|\n",
      "+---+----------+----------+--------------------+------+----+---+---+---------------+--------+----+----+\n",
      "only showing top 20 rows\n",
      "\n"
     ]
    }
   ],
   "source": [
    "df.filter(col(\"age\").isNull()).show()"
   ]
  },
  {
   "attachments": {},
   "cell_type": "markdown",
   "id": "c1a8fbfd-d26d-4e2d-b9e3-68c3317bb325",
   "metadata": {},
   "source": [
    "### We observe that out of all the numerical columns, only age has null values\n",
    "### To handle these values, we shall impute them with the average of the age column"
   ]
  },
  {
   "cell_type": "code",
   "execution_count": 17,
   "id": "fe415d38-5982-4f37-9619-42a32f6b25ac",
   "metadata": {},
   "outputs": [
    {
     "data": {
      "text/plain": [
       "29"
      ]
     },
     "execution_count": 17,
     "metadata": {},
     "output_type": "execute_result"
    }
   ],
   "source": [
    "avg_age = int(df.select(avg(\"age\")).collect()[0][0])\n",
    "avg_age"
   ]
  },
  {
   "cell_type": "code",
   "execution_count": 18,
   "id": "b1b22e61-93e7-45aa-ad69-94e2cd072e5d",
   "metadata": {},
   "outputs": [
    {
     "name": "stdout",
     "output_type": "stream",
     "text": [
      "+---+----------+----------+--------------------+------+---+---+---+----------------+-------+----+----+\n",
      "| id|category_1|category_2|                Name|gender|age|_c6|_c7|             _c8|    _c9|_c10|_c11|\n",
      "+---+----------+----------+--------------------+------+---+---+---+----------------+-------+----+----+\n",
      "|  1|         0|         3|Braund, Mr. Owen ...|  male| 22|  1|  0|       A/5 21171|   7.25|null|   S|\n",
      "|  2|         1|         1|Cumings, Mrs. Joh...|female| 38|  1|  0|        PC 17599|71.2833| C85|   C|\n",
      "|  3|         1|         3|Heikkinen, Miss. ...|female| 26|  0|  0|STON/O2. 3101282|  7.925|null|   S|\n",
      "|  4|         1|         1|Futrelle, Mrs. Ja...|female| 35|  1|  0|          113803|   53.1|C123|   S|\n",
      "|  5|         0|         3|Allen, Mr. Willia...|  male| 35|  0|  0|          373450|   8.05|null|   S|\n",
      "|  6|         0|         3|    Moran, Mr. James|  male| 29|  0|  0|          330877| 8.4583|null|   Q|\n",
      "|  7|         0|         1|McCarthy, Mr. Tim...|  male| 54|  0|  0|           17463|51.8625| E46|   S|\n",
      "|  8|         0|         3|Palsson, Master. ...|  male|  2|  3|  1|          349909| 21.075|null|   S|\n",
      "|  9|         1|         3|Johnson, Mrs. Osc...|female| 27|  0|  2|          347742|11.1333|null|   S|\n",
      "| 10|         1|         2|Nasser, Mrs. Nich...|female| 14|  1|  0|          237736|30.0708|null|   C|\n",
      "| 11|         1|         3|Sandstrom, Miss. ...|female|  4|  1|  1|         PP 9549|   16.7|  G6|   S|\n",
      "| 12|         1|         1|Bonnell, Miss. El...|female| 58|  0|  0|          113783|  26.55|C103|   S|\n",
      "| 13|         0|         3|Saundercock, Mr. ...|  male| 20|  0|  0|       A/5. 2151|   8.05|null|   S|\n",
      "| 14|         0|         3|Andersson, Mr. An...|  male| 39|  1|  5|          347082| 31.275|null|   S|\n",
      "| 15|         0|         3|Vestrom, Miss. Hu...|female| 14|  0|  0|          350406| 7.8542|null|   S|\n",
      "| 16|         1|         2|Hewlett, Mrs. (Ma...|female| 55|  0|  0|          248706|   16.0|null|   S|\n",
      "| 17|         0|         3|Rice, Master. Eugene|  male|  2|  4|  1|          382652| 29.125|null|   Q|\n",
      "| 18|         1|         2|Williams, Mr. Cha...|  male| 29|  0|  0|          244373|   13.0|null|   S|\n",
      "| 19|         0|         3|Vander Planke, Mr...|female| 31|  1|  0|          345763|   18.0|null|   S|\n",
      "| 20|         1|         3|Masselmani, Mrs. ...|female| 29|  0|  0|            2649|  7.225|null|   C|\n",
      "+---+----------+----------+--------------------+------+---+---+---+----------------+-------+----+----+\n",
      "only showing top 20 rows\n",
      "\n"
     ]
    }
   ],
   "source": [
    "df = df.fillna({'age':avg_age})\n",
    "df.show()"
   ]
  },
  {
   "cell_type": "code",
   "execution_count": 19,
   "id": "e433f0e6-fe34-414c-8c61-1ced6a8c34c9",
   "metadata": {},
   "outputs": [
    {
     "name": "stdout",
     "output_type": "stream",
     "text": [
      "+---+----------+----------+----+------+---+---+---+---+---+----+----+\n",
      "| id|category_1|category_2|Name|gender|age|_c6|_c7|_c8|_c9|_c10|_c11|\n",
      "+---+----------+----------+----+------+---+---+---+---+---+----+----+\n",
      "+---+----------+----------+----+------+---+---+---+---+---+----+----+\n",
      "\n"
     ]
    }
   ],
   "source": [
    "df.filter(col(\"age\").isNull()).show()"
   ]
  },
  {
   "attachments": {},
   "cell_type": "markdown",
   "id": "5584f6f4-f7fa-4e9a-9738-ec1d5a3a40ec",
   "metadata": {},
   "source": [
    "### Now, we can calculate the max, min, and average of all numerical columns"
   ]
  },
  {
   "cell_type": "code",
   "execution_count": 20,
   "id": "28ca2ab2-bfdc-4f4b-a64f-23818f8abbea",
   "metadata": {},
   "outputs": [],
   "source": [
    "max_age = int(df.agg({\"age\": \"max\"}).collect()[0][0])\n",
    "min_age = int(df.agg({\"age\": \"min\"}).collect()[0][0])\n",
    "avg_age = int(df.agg({\"age\":\"avg\"}).collect()[0][0])"
   ]
  },
  {
   "cell_type": "code",
   "execution_count": 21,
   "id": "99a9d0c7-293b-44ea-8622-9ba394f4f2ed",
   "metadata": {},
   "outputs": [
    {
     "data": {
      "text/plain": [
       "{'max_age': 80, 'min_age': 0, 'avg_age': 29}"
      ]
     },
     "execution_count": 21,
     "metadata": {},
     "output_type": "execute_result"
    }
   ],
   "source": [
    "{\"max_age\":max_age, \"min_age\":min_age, \"avg_age\":avg_age} "
   ]
  },
  {
   "cell_type": "code",
   "execution_count": 22,
   "id": "1914bf46-f7c3-4275-85b0-8037f4f9e8ab",
   "metadata": {},
   "outputs": [],
   "source": [
    "max_c6 = int(df.agg({\"_c6\": \"max\"}).collect()[0][0])\n",
    "min_c6 = int(df.agg({\"_c6\": \"min\"}).collect()[0][0])\n",
    "avg_c6 = int(df.agg({\"_c6\":\"avg\"}).collect()[0][0])"
   ]
  },
  {
   "cell_type": "code",
   "execution_count": 23,
   "id": "a24549f9-83d5-4a04-99f7-23d000775d4c",
   "metadata": {},
   "outputs": [
    {
     "data": {
      "text/plain": [
       "{'max_c6': 8, 'min_c6': 0, 'avg_c6': 0}"
      ]
     },
     "execution_count": 23,
     "metadata": {},
     "output_type": "execute_result"
    }
   ],
   "source": [
    "{\"max_c6\":max_c6, \"min_c6\":min_c6, \"avg_c6\":avg_c6} "
   ]
  },
  {
   "cell_type": "code",
   "execution_count": 24,
   "id": "0832363f-9095-4f3a-88d6-a878d4ba49b8",
   "metadata": {},
   "outputs": [],
   "source": [
    "max_c7 = int(df.agg({\"_c7\": \"max\"}).collect()[0][0])\n",
    "min_c7 = int(df.agg({\"_c7\": \"min\"}).collect()[0][0])\n",
    "avg_c7 = int(df.agg({\"_c7\":\"avg\"}).collect()[0][0])"
   ]
  },
  {
   "cell_type": "code",
   "execution_count": 25,
   "id": "956d702e-19e7-4dba-885c-4d7fe02c4f5e",
   "metadata": {},
   "outputs": [
    {
     "data": {
      "text/plain": [
       "{'max_c7': 6, 'min_c7': 0, 'avg_c7': 0}"
      ]
     },
     "execution_count": 25,
     "metadata": {},
     "output_type": "execute_result"
    }
   ],
   "source": [
    "{\"max_c7\":max_c7, \"min_c7\":min_c7, \"avg_c7\":avg_c7} "
   ]
  },
  {
   "cell_type": "code",
   "execution_count": 26,
   "id": "bb244dc6-edab-40d1-8389-81ecb6bb7ccd",
   "metadata": {},
   "outputs": [],
   "source": [
    "max_c9 = int(df.agg({\"_c9\": \"max\"}).collect()[0][0])\n",
    "min_c9 = int(df.agg({\"_c9\": \"min\"}).collect()[0][0])\n",
    "avg_c9 = int(df.agg({\"_c9\":\"avg\"}).collect()[0][0])"
   ]
  },
  {
   "cell_type": "code",
   "execution_count": 27,
   "id": "c0f449f8-e629-4352-b1e4-b56afad6b94a",
   "metadata": {},
   "outputs": [
    {
     "data": {
      "text/plain": [
       "{'max_c9': 512, 'min_c9': 0, 'avg_c9': 32}"
      ]
     },
     "execution_count": 27,
     "metadata": {},
     "output_type": "execute_result"
    }
   ],
   "source": [
    "{\"max_c9\":max_c9, \"min_c9\":min_c9, \"avg_c9\":avg_c9} "
   ]
  },
  {
   "attachments": {},
   "cell_type": "markdown",
   "id": "abb69a71-f1b9-46f6-ad56-f8bd8296ee0d",
   "metadata": {},
   "source": [
    "# Applying UDF that will change the last letter of every word in categorical columns to “1”."
   ]
  },
  {
   "cell_type": "code",
   "execution_count": 28,
   "id": "edfafc7e-e36f-424c-9d48-e9d8a63dff84",
   "metadata": {},
   "outputs": [],
   "source": [
    "# creating a User Defined Function\n",
    "def change_to_1(value):\n",
    "    if value is None:\n",
    "        return('1')\n",
    "    \n",
    "    words = value.split()\n",
    "    result = []\n",
    "    for word in words:\n",
    "        new_word = word[:-1] + '1'\n",
    "        result.append(new_word)\n",
    "        \n",
    "\n",
    "    final_result = ' '.join(result)\n",
    "    \n",
    "    return final_result"
   ]
  },
  {
   "cell_type": "code",
   "execution_count": 29,
   "id": "59ff0b53-6612-437e-ad2d-fb23262f3a0d",
   "metadata": {},
   "outputs": [
    {
     "name": "stdout",
     "output_type": "stream",
     "text": [
      "root\n",
      " |-- id: integer (nullable = true)\n",
      " |-- category_1: integer (nullable = true)\n",
      " |-- category_2: integer (nullable = true)\n",
      " |-- Name: string (nullable = true)\n",
      " |-- gender: string (nullable = true)\n",
      " |-- age: integer (nullable = false)\n",
      " |-- _c6: integer (nullable = true)\n",
      " |-- _c7: integer (nullable = true)\n",
      " |-- _c8: string (nullable = true)\n",
      " |-- _c9: double (nullable = true)\n",
      " |-- _c10: string (nullable = true)\n",
      " |-- _c11: string (nullable = true)\n",
      "\n"
     ]
    }
   ],
   "source": [
    "df.printSchema()"
   ]
  },
  {
   "cell_type": "code",
   "execution_count": 30,
   "id": "6d8dcbf7-e46f-4977-9593-95ff5a8133da",
   "metadata": {},
   "outputs": [
    {
     "name": "stdout",
     "output_type": "stream",
     "text": [
      "root\n",
      " |-- id: integer (nullable = true)\n",
      " |-- category_1: string (nullable = true)\n",
      " |-- category_2: string (nullable = true)\n",
      " |-- Name: string (nullable = true)\n",
      " |-- gender: string (nullable = true)\n",
      " |-- age: integer (nullable = false)\n",
      " |-- _c6: integer (nullable = true)\n",
      " |-- _c7: integer (nullable = true)\n",
      " |-- _c8: string (nullable = true)\n",
      " |-- _c9: double (nullable = true)\n",
      " |-- _c10: string (nullable = true)\n",
      " |-- _c11: string (nullable = true)\n",
      "\n"
     ]
    }
   ],
   "source": [
    "# changing the datatype of 'category_1' and 'category_2' columns from integer to string\n",
    "df2 = df.withColumn(\"category_1\",col(\"category_1\").cast(StringType())) \\\n",
    "    .withColumn(\"category_2\",col(\"category_2\").cast(StringType()))\n",
    "\n",
    "df2.printSchema()"
   ]
  },
  {
   "cell_type": "code",
   "execution_count": 31,
   "id": "1ee1eb22-9341-4bba-98a6-6f0aab5ad49d",
   "metadata": {},
   "outputs": [
    {
     "name": "stdout",
     "output_type": "stream",
     "text": [
      "+---+----------+----------+--------------------+------+---+---+---+----------------+-------+----+----+\n",
      "| id|category_1|category_2|                Name|gender|age|_c6|_c7|             _c8|    _c9|_c10|_c11|\n",
      "+---+----------+----------+--------------------+------+---+---+---+----------------+-------+----+----+\n",
      "|  1|         1|         1|Braund, Mr. Owen ...|  mal1| 22|  1|  0|       A/1 21171|   7.25|   1|   1|\n",
      "|  2|         1|         1|Cumings, Mrs. Joh...|femal1| 38|  1|  0|        P1 17591|71.2833| C81|   1|\n",
      "|  3|         1|         1|Heikkinen, Miss. ...|femal1| 26|  0|  0|STON/O21 3101281|  7.925|   1|   1|\n",
      "|  4|         1|         1|Futrelle, Mrs. Ja...|femal1| 35|  1|  0|          113801|   53.1|C121|   1|\n",
      "|  5|         1|         1|Allen, Mr. Willia...|  mal1| 35|  0|  0|          373451|   8.05|   1|   1|\n",
      "|  6|         1|         1|    Moran, Mr. James|  mal1| 29|  0|  0|          330871| 8.4583|   1|   1|\n",
      "|  7|         1|         1|McCarthy, Mr. Tim...|  mal1| 54|  0|  0|           17461|51.8625| E41|   1|\n",
      "|  8|         1|         1|Palsson, Master. ...|  mal1|  2|  3|  1|          349901| 21.075|   1|   1|\n",
      "|  9|         1|         1|Johnson, Mrs. Osc...|femal1| 27|  0|  2|          347741|11.1333|   1|   1|\n",
      "| 10|         1|         1|Nasser, Mrs. Nich...|femal1| 14|  1|  0|          237731|30.0708|   1|   1|\n",
      "| 11|         1|         1|Sandstrom, Miss. ...|femal1|  4|  1|  1|         P1 9541|   16.7|  G1|   1|\n",
      "| 12|         1|         1|Bonnell, Miss. El...|femal1| 58|  0|  0|          113781|  26.55|C101|   1|\n",
      "| 13|         1|         1|Saundercock, Mr. ...|  mal1| 20|  0|  0|       A/51 2151|   8.05|   1|   1|\n",
      "| 14|         1|         1|Andersson, Mr. An...|  mal1| 39|  1|  5|          347081| 31.275|   1|   1|\n",
      "| 15|         1|         1|Vestrom, Miss. Hu...|femal1| 14|  0|  0|          350401| 7.8542|   1|   1|\n",
      "| 16|         1|         1|Hewlett, Mrs. (Ma...|femal1| 55|  0|  0|          248701|   16.0|   1|   1|\n",
      "| 17|         1|         1|Rice, Master. Eugene|  mal1|  2|  4|  1|          382651| 29.125|   1|   1|\n",
      "| 18|         1|         1|Williams, Mr. Cha...|  mal1| 29|  0|  0|          244371|   13.0|   1|   1|\n",
      "| 19|         1|         1|Vander Planke, Mr...|femal1| 31|  1|  0|          345761|   18.0|   1|   1|\n",
      "| 20|         1|         1|Masselmani, Mrs. ...|femal1| 29|  0|  0|            2641|  7.225|   1|   1|\n",
      "+---+----------+----------+--------------------+------+---+---+---+----------------+-------+----+----+\n",
      "only showing top 20 rows\n",
      "\n"
     ]
    },
    {
     "name": "stderr",
     "output_type": "stream",
     "text": [
      "                                                                                \r"
     ]
    }
   ],
   "source": [
    "# registering the UDF\n",
    "change_word_udf = udf(change_to_1, StringType())\n",
    "\n",
    "# applying the UDF to the categorical columns\n",
    "df_with_changed_last_word = df2.withColumn('category_1', change_word_udf('category_1')) \\\n",
    "                               .withColumn('category_2', change_word_udf('category_2')) \\\n",
    "                               .withColumn('gender', change_word_udf('gender')) \\\n",
    "                               .withColumn('_c8', change_word_udf('_c8')) \\\n",
    "                               .withColumn('_c10', change_word_udf('_c10')) \\\n",
    "                               .withColumn('_c11', change_word_udf('_c11'))\n",
    "'''\n",
    "    we did not consider Name to be a categorical column\n",
    "'''\n",
    "# Show the updated DataFrame\n",
    "df_with_changed_last_word.show()"
   ]
  },
  {
   "attachments": {},
   "cell_type": "markdown",
   "id": "1e4c7e93",
   "metadata": {},
   "source": [
    "### the dataframe is already sorted by the first column"
   ]
  },
  {
   "cell_type": "code",
   "execution_count": 32,
   "id": "29cf5e02",
   "metadata": {},
   "outputs": [
    {
     "name": "stderr",
     "output_type": "stream",
     "text": [
      "                                                                                \r"
     ]
    }
   ],
   "source": [
    "# now saving this df to a parquet file\n",
    "df_with_changed_last_word.write.parquet('./final_df_parquet')"
   ]
  }
 ],
 "metadata": {
  "kernelspec": {
   "display_name": "Python 3 (ipykernel)",
   "language": "python",
   "name": "python3"
  },
  "language_info": {
   "codemirror_mode": {
    "name": "ipython",
    "version": 3
   },
   "file_extension": ".py",
   "mimetype": "text/x-python",
   "name": "python",
   "nbconvert_exporter": "python",
   "pygments_lexer": "ipython3",
   "version": "3.10.6"
  }
 },
 "nbformat": 4,
 "nbformat_minor": 5
}
