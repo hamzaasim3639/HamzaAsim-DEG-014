{
 "cells": [
  {
   "cell_type": "code",
   "execution_count": 4,
   "id": "a9817d10-144b-4c34-bc1f-75437b464a1c",
   "metadata": {
    "tags": []
   },
   "outputs": [],
   "source": [
    "from pyspark.sql import SparkSession\n",
    "from pyspark.sql.types import IntegerType\n",
    "from pyspark.sql.functions import col,sum,count,mean"
   ]
  },
  {
   "cell_type": "markdown",
   "id": "cb948146-3747-4a14-b05c-71516b6329ea",
   "metadata": {},
   "source": [
    "# Starting the pyspark session"
   ]
  },
  {
   "cell_type": "code",
   "execution_count": 5,
   "id": "b6932aa4-597a-4bc6-ba42-de7c0de1a2c7",
   "metadata": {
    "tags": []
   },
   "outputs": [
    {
     "name": "stderr",
     "output_type": "stream",
     "text": [
      "23/05/16 11:45:03 WARN SparkSession: Using an existing Spark session; only runtime SQL configurations will take effect.\n"
     ]
    }
   ],
   "source": [
    "scSpark = SparkSession.builder.appName(\"pyspark_assignment_5.1\").getOrCreate()"
   ]
  },
  {
   "cell_type": "markdown",
   "id": "8d554622-57c6-4084-9411-d8748d236bf0",
   "metadata": {},
   "source": [
    "# Loading the 3 transaction csv files for the 3 stores"
   ]
  },
  {
   "cell_type": "code",
   "execution_count": 23,
   "id": "c047e601-5491-42aa-bbc7-1c174c5658db",
   "metadata": {
    "tags": []
   },
   "outputs": [],
   "source": [
    "t1 = scSpark.read.csv(\"./store_transactions/transactions_1.csv\", header=True)\n",
    "t2 = scSpark.read.csv(\"./store_transactions/transactions_2.csv\", header=True)\n",
    "t3 = scSpark.read.csv(\"./store_transactions/transactions_3.csv\", header=True)"
   ]
  },
  {
   "cell_type": "markdown",
   "id": "9111e995-f0df-45db-bb2b-d29d48f460d6",
   "metadata": {},
   "source": [
    "# Loading the 'customers' and 'products' csv files \n",
    "### We then changed the 'Name' column in both dataframes to avoid complexity"
   ]
  },
  {
   "cell_type": "code",
   "execution_count": 132,
   "id": "7caeacee-a5a6-4e5a-8f5f-4a1a986fed7e",
   "metadata": {
    "tags": []
   },
   "outputs": [],
   "source": [
    "cust = scSpark.read.csv(\"./customers.csv\", header=True)\n",
    "cust = cust.withColumnRenamed('Name', 'customer_name')\n",
    "prod = scSpark.read.csv(\"./products.csv\", header=True)\n",
    "prod = prod.withColumnRenamed('Name', 'product_name')"
   ]
  },
  {
   "cell_type": "markdown",
   "id": "16550479-a8c1-4d0e-ad93-6d47698149e4",
   "metadata": {},
   "source": [
    "### Inspecting the first transaction dataframe"
   ]
  },
  {
   "cell_type": "code",
   "execution_count": 25,
   "id": "78d165fe-94f8-48e9-9ddd-0fd49aabc795",
   "metadata": {
    "tags": []
   },
   "outputs": [
    {
     "name": "stdout",
     "output_type": "stream",
     "text": [
      "+-------+-------------+----------+---------+--------+-------------------+\n",
      "|StoreId|TransactionId|CustomerId|ProductId|Quantity|    TransactionTime|\n",
      "+-------+-------------+----------+---------+--------+-------------------+\n",
      "|      1|          971|        13|        2|      10|2022-12-23 04:13:05|\n",
      "|      1|          605|         7|       10|       5|2022-12-23 09:36:22|\n",
      "|      1|          567|        37|        2|       8|2022-12-23 19:44:43|\n",
      "|      1|          607|        38|        5|       4|2022-12-23 04:36:41|\n",
      "|      1|          141|        17|        9|       7|2022-12-23 19:11:29|\n",
      "|      1|          248|        17|       11|      12|2022-12-23 06:27:58|\n",
      "|      1|          726|        45|        4|      13|2022-12-23 14:12:34|\n",
      "|      1|          725|         4|        9|       1|2022-12-23 12:15:47|\n",
      "|      1|          232|        30|       10|       9|2022-12-23 01:26:10|\n",
      "|      1|          954|        47|        6|      14|2022-12-23 06:45:59|\n",
      "|      1|           38|         2|        5|       3|2022-12-23 10:19:48|\n",
      "|      1|          701|         3|        3|      11|2022-12-23 13:22:38|\n",
      "|      1|          783|        49|        7|       8|2022-12-23 18:00:04|\n",
      "|      1|          333|        23|        8|       9|2022-12-23 20:18:44|\n",
      "|      1|          482|         1|       11|       2|2022-12-23 09:05:36|\n",
      "|      1|          286|        35|        1|      12|2022-12-23 01:23:31|\n",
      "|      1|          734|        43|        5|       1|2022-12-23 23:58:16|\n",
      "|      1|           20|         1|        3|       2|2022-12-23 05:18:30|\n",
      "|      1|          203|        18|        6|      10|2022-12-23 23:35:44|\n",
      "|      1|          924|        30|        5|       4|2022-12-23 11:35:46|\n",
      "+-------+-------------+----------+---------+--------+-------------------+\n",
      "only showing top 20 rows\n",
      "\n"
     ]
    }
   ],
   "source": [
    "t1.show()"
   ]
  },
  {
   "cell_type": "markdown",
   "id": "cae686cb-4304-424f-8b27-26d22a036803",
   "metadata": {},
   "source": [
    "# Calculating total sales for store 1"
   ]
  },
  {
   "cell_type": "markdown",
   "id": "0e700cc7-081d-45f5-8d2e-723b03a447d4",
   "metadata": {},
   "source": [
    "### Joining t1 with the products dataframe"
   ]
  },
  {
   "cell_type": "code",
   "execution_count": 187,
   "id": "0e648973-cd26-457d-815d-ca3480122bb9",
   "metadata": {
    "tags": []
   },
   "outputs": [
    {
     "name": "stdout",
     "output_type": "stream",
     "text": [
      "+-------+-------------+----------+---------+--------+-------------------+---------+--------------+--------+---------+\n",
      "|StoreId|TransactionId|CustomerId|ProductId|Quantity|    TransactionTime|ProductId|  product_name|Category|UnitPrice|\n",
      "+-------+-------------+----------+---------+--------+-------------------+---------+--------------+--------+---------+\n",
      "|      1|          971|        13|        2|      10|2022-12-23 04:13:05|        2|  White Shorts|  Shorts|    89.27|\n",
      "|      1|          605|         7|       10|       5|2022-12-23 09:36:22|       10|Black Sneakers|   Shoes|   146.41|\n",
      "|      1|          567|        37|        2|       8|2022-12-23 19:44:43|        2|  White Shorts|  Shorts|    89.27|\n",
      "|      1|          607|        38|        5|       4|2022-12-23 04:36:41|        5|  Black Shorts|  Shorts|    74.58|\n",
      "|      1|          141|        17|        9|       7|2022-12-23 19:11:29|        9| Green Sandals|   Shoes|   137.53|\n",
      "+-------+-------------+----------+---------+--------+-------------------+---------+--------------+--------+---------+\n",
      "only showing top 5 rows\n",
      "\n"
     ]
    }
   ],
   "source": [
    "joined_t1 = t1.join(prod, t1[\"ProductId\"] == prod[\"ProductId\"])\n",
    "joined_t1.show(5)"
   ]
  },
  {
   "cell_type": "markdown",
   "id": "075146a6-b52d-4b9a-93f4-82051c8ffbfa",
   "metadata": {},
   "source": [
    "### Created a new column 'cost' by multiplying the 'Quantity' and 'UnitPrice' columns"
   ]
  },
  {
   "cell_type": "code",
   "execution_count": 188,
   "id": "79d062ad-a2dd-47b4-993f-af18cdaeec04",
   "metadata": {
    "tags": []
   },
   "outputs": [
    {
     "name": "stdout",
     "output_type": "stream",
     "text": [
      "+-------+-------------+----------+---------+--------+-------------------+---------+--------------+--------+---------+-----------------+\n",
      "|StoreId|TransactionId|CustomerId|ProductId|Quantity|    TransactionTime|ProductId|  product_name|Category|UnitPrice|             cost|\n",
      "+-------+-------------+----------+---------+--------+-------------------+---------+--------------+--------+---------+-----------------+\n",
      "|      1|          971|        13|        2|      10|2022-12-23 04:13:05|        2|  White Shorts|  Shorts|    89.27|892.6999999999999|\n",
      "|      1|          605|         7|       10|       5|2022-12-23 09:36:22|       10|Black Sneakers|   Shoes|   146.41|           732.05|\n",
      "|      1|          567|        37|        2|       8|2022-12-23 19:44:43|        2|  White Shorts|  Shorts|    89.27|           714.16|\n",
      "|      1|          607|        38|        5|       4|2022-12-23 04:36:41|        5|  Black Shorts|  Shorts|    74.58|           298.32|\n",
      "|      1|          141|        17|        9|       7|2022-12-23 19:11:29|        9| Green Sandals|   Shoes|   137.53|           962.71|\n",
      "+-------+-------------+----------+---------+--------+-------------------+---------+--------------+--------+---------+-----------------+\n",
      "only showing top 5 rows\n",
      "\n"
     ]
    }
   ],
   "source": [
    "joined_t1 = joined_t1.withColumn(\"cost\", joined_t1[\"Quantity\"] * joined_t1[\"UnitPrice\"])\n",
    "joined_t1.show(5)"
   ]
  },
  {
   "cell_type": "code",
   "execution_count": 137,
   "id": "21fe0d8c-5e59-43fa-beda-9ccd97e67bd8",
   "metadata": {
    "tags": []
   },
   "outputs": [
    {
     "name": "stdout",
     "output_type": "stream",
     "text": [
      "root\n",
      " |-- StoreId: string (nullable = true)\n",
      " |-- TransactionId: string (nullable = true)\n",
      " |-- CustomerId: string (nullable = true)\n",
      " |-- ProductId: string (nullable = true)\n",
      " |-- Quantity: string (nullable = true)\n",
      " |-- TransactionTime: string (nullable = true)\n",
      " |-- ProductId: string (nullable = true)\n",
      " |-- product_name: string (nullable = true)\n",
      " |-- Category: string (nullable = true)\n",
      " |-- UnitPrice: string (nullable = true)\n",
      " |-- cost: double (nullable = true)\n",
      "\n"
     ]
    }
   ],
   "source": [
    "joined_t1.printSchema()"
   ]
  },
  {
   "cell_type": "markdown",
   "id": "4372a7fa-94ea-40c9-83ab-c9a9e4bf82cd",
   "metadata": {},
   "source": [
    "### Changing cost datatype to integer"
   ]
  },
  {
   "cell_type": "code",
   "execution_count": null,
   "id": "b828e75f-d6a0-477f-99e2-570f96dac073",
   "metadata": {
    "tags": []
   },
   "outputs": [],
   "source": [
    "joined_t1 = joined_t1.withColumn(\n",
    "    \"cost\", joined_t1[\"cost\"].cast(IntegerType())\n",
    ")"
   ]
  },
  {
   "cell_type": "markdown",
   "id": "a1fd0809-959e-4479-8977-86561ca056f2",
   "metadata": {},
   "source": [
    "## Now summing the cost column and getting the total sales for store 1"
   ]
  },
  {
   "cell_type": "code",
   "execution_count": 139,
   "id": "3ac14221-2000-4413-b2d3-6a0826149f46",
   "metadata": {
    "tags": []
   },
   "outputs": [
    {
     "data": {
      "text/plain": [
       "41239"
      ]
     },
     "execution_count": 139,
     "metadata": {},
     "output_type": "execute_result"
    }
   ],
   "source": [
    "store_1_total_sales = joined_t1.agg({\"cost\": \"sum\"}).collect()[0][0]\n",
    "store_1_total_sales"
   ]
  },
  {
   "cell_type": "markdown",
   "id": "0c980dc5-ffbc-4457-9e91-ec741dd58a58",
   "metadata": {},
   "source": [
    "# Calculating mean sales for store 2"
   ]
  },
  {
   "cell_type": "markdown",
   "id": "271c8960-851e-4200-b47f-bed3f8441afc",
   "metadata": {},
   "source": [
    "### Joining with 'prod' dataframe"
   ]
  },
  {
   "cell_type": "code",
   "execution_count": 190,
   "id": "1005bcd7-8b4f-47c2-a305-d78cc95d4cf6",
   "metadata": {
    "tags": []
   },
   "outputs": [
    {
     "name": "stdout",
     "output_type": "stream",
     "text": [
      "+-------+-------------+----------+---------+--------+-------------------+---------+------------+--------+---------+\n",
      "|StoreId|TransactionId|CustomerId|ProductId|Quantity|    TransactionTime|ProductId|product_name|Category|UnitPrice|\n",
      "+-------+-------------+----------+---------+--------+-------------------+---------+------------+--------+---------+\n",
      "|      2|            2|         2|        2|       2|2022-12-23 18:49:45|        2|White Shorts|  Shorts|    89.27|\n",
      "|      2|            2|         2|        2|       2|2022-12-23 13:19:51|        2|White Shorts|  Shorts|    89.27|\n",
      "|      2|            2|         2|        2|       2|2022-12-23 22:39:21|        2|White Shorts|  Shorts|    89.27|\n",
      "|      2|          514|        14|       21|       5|2022-12-23 00:24:15|       21|  Red Chinos|   Pants|   134.42|\n",
      "|      2|          363|        44|       16|       2|2022-12-23 10:46:04|       16|Blue t-shirt|T-Shirts|   140.68|\n",
      "+-------+-------------+----------+---------+--------+-------------------+---------+------------+--------+---------+\n",
      "only showing top 5 rows\n",
      "\n"
     ]
    }
   ],
   "source": [
    "joined_t2 = t2.join(prod, t2[\"ProductId\"] == prod[\"ProductId\"])\n",
    "joined_t2.show(5)"
   ]
  },
  {
   "cell_type": "code",
   "execution_count": 192,
   "id": "0746c8ad-a8b7-4856-8816-f2f827b9e3ee",
   "metadata": {
    "tags": []
   },
   "outputs": [
    {
     "name": "stdout",
     "output_type": "stream",
     "text": [
      "+-------+-------------+----------+---------+--------+-------------------+---------+------------+--------+---------+-----------------+\n",
      "|StoreId|TransactionId|CustomerId|ProductId|Quantity|    TransactionTime|ProductId|product_name|Category|UnitPrice|             cost|\n",
      "+-------+-------------+----------+---------+--------+-------------------+---------+------------+--------+---------+-----------------+\n",
      "|      2|            2|         2|        2|       2|2022-12-23 18:49:45|        2|White Shorts|  Shorts|    89.27|           178.54|\n",
      "|      2|            2|         2|        2|       2|2022-12-23 13:19:51|        2|White Shorts|  Shorts|    89.27|           178.54|\n",
      "|      2|            2|         2|        2|       2|2022-12-23 22:39:21|        2|White Shorts|  Shorts|    89.27|           178.54|\n",
      "|      2|          514|        14|       21|       5|2022-12-23 00:24:15|       21|  Red Chinos|   Pants|   134.42|672.0999999999999|\n",
      "|      2|          363|        44|       16|       2|2022-12-23 10:46:04|       16|Blue t-shirt|T-Shirts|   140.68|           281.36|\n",
      "+-------+-------------+----------+---------+--------+-------------------+---------+------------+--------+---------+-----------------+\n",
      "only showing top 5 rows\n",
      "\n"
     ]
    }
   ],
   "source": [
    "joined_t2 = joined_t2.withColumn(\"cost\", joined_t2[\"Quantity\"] * joined_t2[\"UnitPrice\"])\n",
    "joined_t2.show(5)"
   ]
  },
  {
   "cell_type": "markdown",
   "id": "c6007b44-d052-4e5a-843b-606dde8bb9fc",
   "metadata": {},
   "source": [
    "### Changing cost datatype to integer"
   ]
  },
  {
   "cell_type": "code",
   "execution_count": 193,
   "id": "cbc4d08b-52b1-4c61-94b7-e11021d4dd6f",
   "metadata": {
    "tags": []
   },
   "outputs": [],
   "source": [
    "joined_t2 = joined_t2.withColumn(\n",
    "    \"cost\", joined_t2[\"cost\"].cast(IntegerType())\n",
    ")"
   ]
  },
  {
   "cell_type": "markdown",
   "id": "bbdf6508-6147-40c7-88e2-43c2318e6cb2",
   "metadata": {},
   "source": [
    "## Finally calculating the mean for the total sales for store 2"
   ]
  },
  {
   "cell_type": "code",
   "execution_count": 195,
   "id": "7a4aa6bf-2e5d-4d8c-9396-317f9cc3aa04",
   "metadata": {
    "tags": []
   },
   "outputs": [
    {
     "data": {
      "text/plain": [
       "512.9803921568628"
      ]
     },
     "execution_count": 195,
     "metadata": {},
     "output_type": "execute_result"
    }
   ],
   "source": [
    "store_2_mean_sales = joined_t2.agg({\"cost\": \"mean\"}).collect()[0][0]\n",
    "store_2_mean_sales"
   ]
  },
  {
   "cell_type": "markdown",
   "id": "c4ec0785-7717-4a0b-9683-d3294de0ca81",
   "metadata": {},
   "source": [
    "# Summing up purchases from all stores"
   ]
  },
  {
   "cell_type": "markdown",
   "id": "7f735875-7edc-4f0c-8be7-1e8cf874ded5",
   "metadata": {},
   "source": [
    "## Joining all the transaction csv files in one dataframe"
   ]
  },
  {
   "cell_type": "code",
   "execution_count": 196,
   "id": "738d93a6-16d1-48de-b24f-f550b6e0f28e",
   "metadata": {
    "tags": []
   },
   "outputs": [
    {
     "name": "stdout",
     "output_type": "stream",
     "text": [
      "+-------+-------------+----------+---------+--------+-------------------+\n",
      "|StoreId|TransactionId|CustomerId|ProductId|Quantity|    TransactionTime|\n",
      "+-------+-------------+----------+---------+--------+-------------------+\n",
      "|      3|          454|        35|        3|       3|2022-12-23 17:36:11|\n",
      "|      3|          524|        37|        9|      11|2022-12-23 22:02:51|\n",
      "|      3|          562|         4|        3|       4|2022-12-23 02:51:50|\n",
      "|      3|          581|        35|       14|      56|2022-12-23 17:05:54|\n",
      "|      3|          200|        34|       15|      24|2022-12-23 07:15:01|\n",
      "+-------+-------------+----------+---------+--------+-------------------+\n",
      "only showing top 5 rows\n",
      "\n"
     ]
    }
   ],
   "source": [
    "all_transactions = scSpark.read.csv(\"./store_transactions/transactions*.csv\", header=True)\n",
    "all_transactions.show(5)"
   ]
  },
  {
   "cell_type": "code",
   "execution_count": 198,
   "id": "fc6c5ed2-7929-4264-91e7-7a832b0da912",
   "metadata": {
    "tags": []
   },
   "outputs": [
    {
     "name": "stdout",
     "output_type": "stream",
     "text": [
      "+-------+-------------+----------+---------+--------+-------------------+----------+--------------+--------------------+---------+-------------+--------+---------+\n",
      "|StoreId|TransactionId|CustomerId|ProductId|Quantity|    TransactionTime|CustomerId| customer_name|               Email|ProductId| product_name|Category|UnitPrice|\n",
      "+-------+-------------+----------+---------+--------+-------------------+----------+--------------+--------------------+---------+-------------+--------+---------+\n",
      "|      3|          454|        35|        3|       3|2022-12-23 17:36:11|        35|Dwayne Johnson|dwayne.johnson@gm...|        3|  Blue Shorts|  Shorts|   118.88|\n",
      "|      3|          524|        37|        9|      11|2022-12-23 22:02:51|        37| Brittany Holt|brittany.holt@exa...|        9|Green Sandals|   Shoes|   137.53|\n",
      "|      3|          562|         4|        3|       4|2022-12-23 02:51:50|         4| Alevtin Paska|alevtin.paska@exa...|        3|  Blue Shorts|  Shorts|   118.88|\n",
      "|      3|          581|        35|       14|      56|2022-12-23 17:05:54|        35|Dwayne Johnson|dwayne.johnson@gm...|       14|  Red t-shirt|T-Shirts|   121.58|\n",
      "|      3|          200|        34|       15|      24|2022-12-23 07:15:01|        34|      Avi Shet|avi.shet@example.com|       15|White t-shirt|T-Shirts|   131.13|\n",
      "+-------+-------------+----------+---------+--------+-------------------+----------+--------------+--------------------+---------+-------------+--------+---------+\n",
      "only showing top 5 rows\n",
      "\n"
     ]
    }
   ],
   "source": [
    "# first joining the transactions df with customer df\n",
    "joined_trans_cust = all_transactions.join(cust, all_transactions[\"CustomerId\"] == cust[\"CustomerId\"])\n",
    "\n",
    "# now joining the above df with products df to make a combined df containing all information\n",
    "joined_all = joined_trans_cust.join(prod, joined_trans_cust[\"ProductId\"] == prod[\"ProductId\"])\n",
    "joined_all.show(5)"
   ]
  },
  {
   "cell_type": "code",
   "execution_count": 148,
   "id": "63d7b0e0-0cf7-4e13-8a62-2b98044b1e97",
   "metadata": {
    "tags": []
   },
   "outputs": [
    {
     "name": "stdout",
     "output_type": "stream",
     "text": [
      "root\n",
      " |-- StoreId: string (nullable = true)\n",
      " |-- TransactionId: string (nullable = true)\n",
      " |-- CustomerId: string (nullable = true)\n",
      " |-- ProductId: string (nullable = true)\n",
      " |-- Quantity: string (nullable = true)\n",
      " |-- TransactionTime: string (nullable = true)\n",
      " |-- CustomerId: string (nullable = true)\n",
      " |-- customer_name: string (nullable = true)\n",
      " |-- Email: string (nullable = true)\n",
      " |-- ProductId: string (nullable = true)\n",
      " |-- product_name: string (nullable = true)\n",
      " |-- Category: string (nullable = true)\n",
      " |-- UnitPrice: string (nullable = true)\n",
      "\n"
     ]
    }
   ],
   "source": [
    "joined_all.printSchema()"
   ]
  },
  {
   "cell_type": "markdown",
   "id": "957abeea-4504-4f2c-b889-e3c9a28f5aa1",
   "metadata": {},
   "source": [
    "## Changing datatypes "
   ]
  },
  {
   "cell_type": "code",
   "execution_count": 149,
   "id": "1bb5ea56-dcec-48e0-b9d8-49a08f1f5d07",
   "metadata": {
    "tags": []
   },
   "outputs": [
    {
     "name": "stdout",
     "output_type": "stream",
     "text": [
      "root\n",
      " |-- StoreId: string (nullable = true)\n",
      " |-- TransactionId: string (nullable = true)\n",
      " |-- CustomerId: string (nullable = true)\n",
      " |-- ProductId: string (nullable = true)\n",
      " |-- Quantity: integer (nullable = true)\n",
      " |-- TransactionTime: string (nullable = true)\n",
      " |-- CustomerId: string (nullable = true)\n",
      " |-- customer_name: string (nullable = true)\n",
      " |-- Email: string (nullable = true)\n",
      " |-- ProductId: string (nullable = true)\n",
      " |-- product_name: string (nullable = true)\n",
      " |-- Category: string (nullable = true)\n",
      " |-- UnitPrice: integer (nullable = true)\n",
      "\n"
     ]
    }
   ],
   "source": [
    "joined_all = joined_all.withColumn(\"Quantity\", joined_all[\"Quantity\"].cast(IntegerType()))\n",
    "joined_all = joined_all.withColumn(\"UnitPrice\", joined_all[\"UnitPrice\"].cast(IntegerType()))\n",
    "joined_all.printSchema()"
   ]
  },
  {
   "cell_type": "markdown",
   "id": "8b9a8bc2-5348-4a1f-a828-1e00d20d88ee",
   "metadata": {},
   "source": [
    "## Adding a cost column"
   ]
  },
  {
   "cell_type": "code",
   "execution_count": 216,
   "id": "deaeb883-68c6-4bd9-a17d-3829074c1fa8",
   "metadata": {
    "tags": []
   },
   "outputs": [
    {
     "name": "stdout",
     "output_type": "stream",
     "text": [
      "+-------+-------------+----------+---------+--------+-------------------+----------+--------------+--------------------+---------+-------------+--------+---------+-------+\n",
      "|StoreId|TransactionId|CustomerId|ProductId|Quantity|    TransactionTime|CustomerId| customer_name|               Email|ProductId| product_name|Category|UnitPrice|   cost|\n",
      "+-------+-------------+----------+---------+--------+-------------------+----------+--------------+--------------------+---------+-------------+--------+---------+-------+\n",
      "|      3|          454|        35|        3|       3|2022-12-23 17:36:11|        35|Dwayne Johnson|dwayne.johnson@gm...|        3|  Blue Shorts|  Shorts|   118.88| 356.64|\n",
      "|      3|          524|        37|        9|      11|2022-12-23 22:02:51|        37| Brittany Holt|brittany.holt@exa...|        9|Green Sandals|   Shoes|   137.53|1512.83|\n",
      "|      3|          562|         4|        3|       4|2022-12-23 02:51:50|         4| Alevtin Paska|alevtin.paska@exa...|        3|  Blue Shorts|  Shorts|   118.88| 475.52|\n",
      "|      3|          581|        35|       14|      56|2022-12-23 17:05:54|        35|Dwayne Johnson|dwayne.johnson@gm...|       14|  Red t-shirt|T-Shirts|   121.58|6808.48|\n",
      "|      3|          200|        34|       15|      24|2022-12-23 07:15:01|        34|      Avi Shet|avi.shet@example.com|       15|White t-shirt|T-Shirts|   131.13|3147.12|\n",
      "+-------+-------------+----------+---------+--------+-------------------+----------+--------------+--------------------+---------+-------------+--------+---------+-------+\n",
      "only showing top 5 rows\n",
      "\n"
     ]
    }
   ],
   "source": [
    "joined_all = joined_all.withColumn(\"cost\", joined_all[\"Quantity\"] * joined_all[\"UnitPrice\"])\n",
    "joined_all.show(5)"
   ]
  },
  {
   "cell_type": "markdown",
   "id": "4f47af5e-beb5-4688-a0f7-69848fb2fdf0",
   "metadata": {},
   "source": [
    "## Grouping by customer email to get the total spending of each customer"
   ]
  },
  {
   "cell_type": "code",
   "execution_count": 218,
   "id": "74b1e2f7-5265-40f8-a24e-fd43053554a6",
   "metadata": {
    "tags": []
   },
   "outputs": [],
   "source": [
    "cust_activity = joined_all.groupBy(\"Email\").sum(\"cost\")"
   ]
  },
  {
   "cell_type": "code",
   "execution_count": 219,
   "id": "f0ad41e8-658d-4dd8-9b07-d8fd79ada9c1",
   "metadata": {
    "tags": []
   },
   "outputs": [
    {
     "name": "stdout",
     "output_type": "stream",
     "text": [
      "+--------------------+------------------+\n",
      "|               Email|         sum(cost)|\n",
      "+--------------------+------------------+\n",
      "|dwayne.johnson@gm...|          10653.08|\n",
      "|sevastiana.nester...|           8440.65|\n",
      "|thies.blumel@exam...|           6799.25|\n",
      "|gladis.dasneves@e...| 5954.469999999999|\n",
      "|emilia.pedraza@ex...| 5633.580000000001|\n",
      "|avi.shet@example.com|           5579.95|\n",
      "|angelique.vennix@...|            5317.7|\n",
      "|alice.morin@examp...|            5060.1|\n",
      "|dominic.lo@exampl...|           4944.65|\n",
      "|suzy.gibson@examp...|            4352.0|\n",
      "|dobrik.svida@exam...|3962.9799999999996|\n",
      "|jonathan.carrasco...|           3837.05|\n",
      "|claudia.gutierrez...|           3824.06|\n",
      "|william.nielsen@e...|           3582.17|\n",
      "|leah.green@exampl...|           3579.04|\n",
      "|kyn.aalyzdh@examp...|3480.7799999999997|\n",
      "|stella.masson@exa...|           3335.17|\n",
      "|flenn.henderson@e...|           3279.46|\n",
      "|signe.petersen@ex...|3269.7800000000007|\n",
      "|an.jansen@example...|3237.5400000000004|\n",
      "+--------------------+------------------+\n",
      "only showing top 20 rows\n",
      "\n"
     ]
    }
   ],
   "source": [
    "# sorting in descending order\n",
    "cust_activity.sort(\"sum(cost)\", ascending=False).show()"
   ]
  },
  {
   "cell_type": "markdown",
   "id": "adcf236d-ca5e-4772-b583-300e2e88cf4c",
   "metadata": {},
   "source": [
    "## Email of the customer who spent the most money"
   ]
  },
  {
   "cell_type": "code",
   "execution_count": 206,
   "id": "f6eba2e2-bb13-4de1-9f81-887435bd9e3d",
   "metadata": {
    "tags": []
   },
   "outputs": [
    {
     "data": {
      "text/plain": [
       "'dwayne.johnson@gmail.com'"
      ]
     },
     "execution_count": 206,
     "metadata": {},
     "output_type": "execute_result"
    }
   ],
   "source": [
    "# now we sort in descending order and get the first row\n",
    "most_active_customer = cust_activity.sort(\"sum(cost)\", ascending=False).collect()[0][0]\n",
    "most_active_customer"
   ]
  },
  {
   "cell_type": "markdown",
   "id": "bc26dc12-e28c-4abd-ab19-06133157f734",
   "metadata": {},
   "source": [
    "## Getting the count of each product in the product_name column\n",
    "### sorting in descending order\n",
    "### and showing the top 5 results"
   ]
  },
  {
   "cell_type": "code",
   "execution_count": 185,
   "id": "f18579fc-5982-4b2e-bb91-30c0e4f55658",
   "metadata": {
    "tags": []
   },
   "outputs": [
    {
     "name": "stdout",
     "output_type": "stream",
     "text": [
      "+-------------+-----+\n",
      "| product_name|count|\n",
      "+-------------+-----+\n",
      "| White Shorts|   20|\n",
      "| Green jacket|    9|\n",
      "| Black Shorts|    9|\n",
      "|White t-shirt|    8|\n",
      "|   Blue Jeans|    7|\n",
      "+-------------+-----+\n",
      "only showing top 5 rows\n",
      "\n"
     ]
    }
   ],
   "source": [
    "frequently_bought_products = joined_all.groupBy('product_name').count()\\\n",
    "                                        .sort('count', ascending=False)\\\n",
    "                                        .show(5)\n",
    "frequently_bought_products"
   ]
  }
 ],
 "metadata": {
  "kernelspec": {
   "display_name": "Python 3 (ipykernel)",
   "language": "python",
   "name": "python3"
  },
  "language_info": {
   "codemirror_mode": {
    "name": "ipython",
    "version": 3
   },
   "file_extension": ".py",
   "mimetype": "text/x-python",
   "name": "python",
   "nbconvert_exporter": "python",
   "pygments_lexer": "ipython3",
   "version": "3.10.9"
  }
 },
 "nbformat": 4,
 "nbformat_minor": 5
}
